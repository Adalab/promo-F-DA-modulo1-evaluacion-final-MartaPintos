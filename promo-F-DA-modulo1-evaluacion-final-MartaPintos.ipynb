{
 "cells": [
  {
   "cell_type": "code",
   "execution_count": 1736,
   "metadata": {},
   "outputs": [],
   "source": [
    "import re\n",
    "\n",
    "class TiendaOnline:\n",
    "    def __init__(self, inventario = [], clientes = {}, ventas_totales = 0):\n",
    "        # Una lista de diccionarios para el inventario: \n",
    "        # [{'nombre': 'Camisa', 'precio': 20, 'cantidad': 40}, \n",
    "        # {'nombre': 'Pantalón', 'precio': 30, 'cantidad': 30}]\n",
    "        self.inventario = inventario \n",
    "\n",
    "        # Un diccionario con diccionario en los valores para clientes: \n",
    "        # {'Cliente1': {'email': 'cliente1@email.com', 'compras': []},\n",
    "        # 'Cliente2': {'email': 'cliente2@email.com', 'compras': []}}\n",
    "        self.clientes = clientes \n",
    "        \n",
    "        # Un float para registrar las ventas\n",
    "        self.ventas_totales = ventas_totales\n",
    "        \n",
    "    \n",
    "    def agregar_producto(self, nombre, precio, cantidad):\n",
    "        # Definimos una variable donde controlar el índice de la lista\n",
    "        indice_producto = 0\n",
    "        # Definimos una variable para controlar si existe o no el producto\n",
    "        existe_producto = False\n",
    "\n",
    "        # Recorremos el inventario y actualizamos las variables de índice y existencia\n",
    "        for index in range(0, len(self.inventario)):\n",
    "            if self.inventario[index][\"nombre\"] == nombre:\n",
    "                indice_producto = index\n",
    "                existe_producto = True\n",
    "                break\n",
    "            else:\n",
    "                existe_producto = False\n",
    "        \n",
    "        if existe_producto == True:\n",
    "            # Si existe, agregamos la cantidad nueva a la ya existente\n",
    "            self.inventario[indice_producto][\"cantidad\"] = self.inventario[indice_producto][\"cantidad\"] + cantidad\n",
    "            print(f\"El producto ya existe. Actualizando datos... {self.inventario[indice_producto]}\")\n",
    "        else:\n",
    "            # Si no existe, añadimos el producto nuevo\n",
    "            self.inventario.append({\"nombre\": nombre, \"precio\": precio, \"cantidad\": cantidad})\n",
    "            print(f\"El producto no existe. Añadimos el producto: {self.inventario[indice_producto]} al inventario\")\n",
    "\n",
    "        return self.inventario\n",
    "\n",
    "\n",
    "    def ver_inventario(self):\n",
    "        # De nuevo, iterando por el índice vamos sacando los datos requeridos.\n",
    "        for index in range(0,len(self.inventario)):\n",
    "            print(f\"Nombre: {self.inventario[index]['nombre']}, Precio: {self.inventario[index]['precio']}, Cantidad: {self.inventario[index]['cantidad']}\")\n",
    "\n",
    "\n",
    "    def buscar_producto(self, nombre):\n",
    "        for index in range(0, len(self.inventario)):\n",
    "            if self.inventario[index][\"nombre\"] == nombre:\n",
    "                indice_producto = index\n",
    "                existe_producto = True\n",
    "                break\n",
    "            else:\n",
    "                existe_producto = False\n",
    "        \n",
    "        if existe_producto != True:\n",
    "            return f\"El producto {nombre} no existe.\"\n",
    "\n",
    "        else:\n",
    "            return f\"Nombre: {self.inventario[indice_producto]['nombre']}, Precio: {self.inventario[indice_producto]['precio']}, Cantidad: {self.inventario[indice_producto]['cantidad']}\"\n",
    "\n",
    "\n",
    "    def actualizar_stock(self, nombre, cantidad): \n",
    "        # Definimos una variable donde controlar el índice de la lista al igual que en agregar_producto\n",
    "        indice_producto = 0\n",
    "        # Definimos una variable para controlar si existe o no el producto\n",
    "        existe_producto = False\n",
    "\n",
    "        # Recorremos el inventario y actualizamos las variables de índice y existencia\n",
    "        for index in range(0, len(self.inventario)):\n",
    "            if self.inventario[index][\"nombre\"] == nombre:\n",
    "                indice_producto = index\n",
    "                existe_producto = True\n",
    "                break\n",
    "\n",
    "            else:\n",
    "                existe_producto = False\n",
    "        \n",
    "        if existe_producto == True:\n",
    "            # Si existe, agregamos la cantidad nueva a la ya existente\n",
    "            self.inventario[indice_producto][\"cantidad\"] = self.inventario[indice_producto][\"cantidad\"] + cantidad\n",
    "            print(f\"El producto ya existe. Actualizando datos... {self.inventario[indice_producto]}\")\n",
    "        \n",
    "        else:\n",
    "            # Si no existe, mostramos mensaje de error\n",
    "            print(f\"El producto {nombre} no existe.\")\n",
    "\n",
    "        return self.inventario\n",
    "    \n",
    "\n",
    "    def eliminar_producto(self, nombre):\n",
    "        for index in range(len(self.inventario)):\n",
    "            if self.inventario[index][\"nombre\"] == nombre:\n",
    "                indice_producto = index\n",
    "                existe_producto = True\n",
    "                break\n",
    "            \n",
    "            else:\n",
    "                existe_producto = False\n",
    "        \n",
    "        #Si el producto existe lo eliminamos con pop\n",
    "        if existe_producto == True:       \n",
    "            self.inventario.pop(index)\n",
    "            print(f\"El producto {nombre} ha sido eliminado.\")\n",
    "        \n",
    "        else:\n",
    "            print(f\"El producto {nombre} no existe.\")\n",
    "        \n",
    "        return self.inventario\n",
    "\n",
    "\n",
    "    def calcular_valor_inventario(self): \n",
    "        valor_inventario = 0\n",
    "        # Iteramos a través del inventario y sumamos el valor de cada producto (precio x cantidad)\n",
    "        for producto in self.inventario:\n",
    "            valor_inventario += producto[\"precio\"] * producto[\"cantidad\"]\n",
    "            \n",
    "        return f\"El valor total del inventario es de {valor_inventario}€\"\n",
    "\n",
    "\n",
    "    def buscar_producto_regex(self, patron):\n",
    "        lista_productos = []\n",
    "        #Iteramos por el inventario viendo cada producto a ver si cumplen el patrón dado\n",
    "        for producto in self.inventario:\n",
    "            busqueda = re.search(patron,producto[\"nombre\"])\n",
    "            \n",
    "            # si no encuntra nada devuelve None que es como False\n",
    "            if busqueda != None:\n",
    "                lista_productos.append(producto)\n",
    "            \n",
    "        print(lista_productos)\n",
    "\n",
    "\n",
    "    def realizar_compra(self): \n",
    "        #Inicializamos estas variables que nos van a hacer falta\n",
    "        #Nombre nos ayuda a entrar en el while\n",
    "        nombre = 0\n",
    "        suma = 0\n",
    "        carrito = []\n",
    "        #producto_existe nos ayudará a decir si los productos introducidos existen o no\n",
    "        producto_existe = False\n",
    "        \n",
    "        # Mostramos el inventario para que puedan saber que productos tenemos\n",
    "        self.ver_inventario()\n",
    "        \n",
    "        # Permanecemos pidiendo al cliente productos haasta que selecione un 0\n",
    "        while nombre != \"0\":\n",
    "            nombre = input(\"Introduzca el producto que desee añadir a su carrito. Si desea finalizar el proceso introduzca 0\")\n",
    "            \n",
    "            #Si selecciona 0 no queremos que nos imprima el producto seleccionado.\n",
    "            if nombre == \"0\":\n",
    "                continue\n",
    "            \n",
    "            #Si no selecciona 0 seguiremos en el bucle while.\n",
    "            else:\n",
    "                print(f\"El producto seleccionado es: {nombre}\")\n",
    "\n",
    "            #Con el for loop nos movemos por la lista para comprobar los values de \"nombre\" y \"precio\" de cada producto\n",
    "            for producto in self.inventario:\n",
    "                if producto[\"nombre\"] == nombre:\n",
    "                    #Hacemos la suma de los productos que vamos agregando al carrito\n",
    "                    carrito.append(producto)\n",
    "                    suma += producto[\"precio\"] \n",
    "                    self.actualizar_stock(producto,-1)\n",
    "                    producto_existe = True\n",
    "                    #Saltamos al siguiente producto que ya hemos encontrado a este\n",
    "                    break\n",
    "                else:\n",
    "                    producto_existe = False        \n",
    "            if producto_existe == False and nombre != \"0\":\n",
    "                print(\"Ese producto no existe\")  \n",
    "            else:\n",
    "                print(f\"Llevas {suma}€ en el carrito\")\n",
    "        print(f\"Los productos del {carrito} suman: {suma} €.\")\n",
    "        return self.actualizar_stock\n",
    "        #¿¿¿Cesar dijo que miraramos si había suficiente stock para la compra???\n",
    "\n",
    "\n",
    "    def procesar_pago(self):\n",
    "        #Procesa el pago de una compra, calcula el cambio y muestra un mensaje de confirmación.\n",
    "        cambio = 0\n",
    "\n",
    "        try:\n",
    "            #Solicita al cliente ingresar la cantidad total y la cantidad de pago.\n",
    "            cantidad_a_pagar = int(input(\"Introduzca la cantidad a pagar\"))\n",
    "            cantidad_entregada = int(input(\"Introduzca la cantidad entregada para el pago\"))\n",
    "            \n",
    "            #Calcula el cambio y muestra un mensaje de pago exitoso o un error en caso de monto insuficiente.\n",
    "            if cantidad_a_pagar > cantidad_entregada:\n",
    "                print(\"No hay suficiente dinero.\")\n",
    "            \n",
    "            else:\n",
    "                cambio = cantidad_entregada - cantidad_a_pagar\n",
    "                return f\"Su cambio es de {cambio} €\"\n",
    "        \n",
    "        except:\n",
    "            return \"No se ha podido realizar el pago\"\n",
    "\n",
    "        \n",
    "    def agregar_cliente(self, nombre, email): \n",
    "        \n",
    "        #Agrega un cliente al diccionario de clientes con su nombre y correo electrónico e inicializamos sus compras a lista vacia.\n",
    "        self.clientes[nombre] = {\"email\": email, \"compras\": []}\n",
    "        \n",
    "        return self.clientes\n",
    "\n",
    "\n",
    "    def ver_clientes(self): \n",
    "\n",
    "        for cliente in self.clientes:\n",
    "            #print(f\"{cliente}\") --> output -> Nombre del cliente\n",
    "            #print(f\"{self.clientes}\")  --> Todo self.clientes con todos los clientes y sus diccionaarios de datos\n",
    "            #print(f\"{self.clientes[cliente]}\")  --> Nos metemos en el valor del cliente concreto (del for) y buscamos solo el email\n",
    "            print(f\"{cliente} : {self.clientes[cliente]['email']}\")\n",
    "            \n",
    "        \n",
    "\n",
    "    def registrar_compra(self, nombre_cliente, carrito): \n",
    "        # Registra una compra para un cliente que existe en nuestro listado\n",
    "        existe_cliente = 0\n",
    "        total_compra = 0\n",
    "        #Comprobamos si existe el cliente\n",
    "        for cliente in self.clientes:\n",
    "            if cliente == nombre_cliente:\n",
    "                existe_cliente = 1\n",
    "                break\n",
    "            \n",
    "        if existe_cliente == 0:\n",
    "            #Mensaje de error si no existe.\n",
    "            print(\"No se puede realizar la acción porque el cliente no está en el diccionario.\")\n",
    "            \n",
    "        else:\n",
    "            #Si sí existe añadimos el carrito al histórico de compras del cliente e incrementamos las ventas totales.\n",
    "            self.clientes[nombre_cliente]['compras'].append(carrito)\n",
    "            \n",
    "            print(f\"Las compras realizadas por el cliente {nombre_cliente} son las siguientes \\n {self.clientes[nombre_cliente]['compras']}\")\n",
    "            \n",
    "            #Itero por los productos comprados en la lista que son diccionarios con key el item comprado y valores su precio y la cantidad\n",
    "            for compra in self.clientes[cliente]['compras']:\n",
    "                \n",
    "                #Itero dentro de cada diccionario de producto para acceder a sus valores (values).\n",
    "                for x in compra:\n",
    "                    total_compra += compra[x]['precio'] * (compra[x]['cantidad'])\n",
    "                    \n",
    "            print(f\"El precio total de la compra es de: {total_compra}€\")\n",
    "\n",
    "        return total_compra \n",
    "       \n",
    "\n",
    "    def ver_compras_cliente(self, nombre_cliente):\n",
    "        # Muestra el historial de compras de un cliente.\n",
    "        total_compra = 0\n",
    "\n",
    "        for cliente in self.clientes:\n",
    "            if cliente == nombre_cliente:\n",
    "               print(f\"{cliente} : {self.clientes[cliente]['compras']}\")\n",
    "        \n",
    "        #Iteramos en {'Camisa': {'precio': 20, 'cantidad': 3}, 'Pantalón': {'precio': 30, 'cantidad': 1}}\n",
    "        for compra in self.clientes[nombre_cliente]['compras']:\n",
    "    \n",
    "            #Itero dentro de cada diccionario de producto (camisa, pantalón...) para acceder a sus valores (values) (precio y cantidad).\n",
    "            for x in compra:\n",
    "                total_compra += compra[x]['precio'] * (compra[x]['cantidad'])\n",
    "                    \n",
    "            print(f\"El precio total de las compras realizadas por {nombre_cliente} es de: {total_compra}€\")\n",
    "\n",
    "        return total_compra \n",
    "\n",
    "\n",
    "    def calcular_ventas_totales(self): #Muestra las ventas totales de la tienda.\n",
    "        total_compra = 0\n",
    "        \n",
    "        #Iteramos por los clientes.\n",
    "        for cliente in self.clientes:\n",
    "            \n",
    "            #Iteramos en sus comprar.\n",
    "            for compra in self.clientes[cliente]['compras']:\n",
    "        \n",
    "                #Itero dentro de cada producto para sacar la cantidad y el precio.\n",
    "                for x in compra:\n",
    "                    total_compra += compra[x]['precio'] * (compra[x]['cantidad'])\n",
    "                    \n",
    "        print(f\"El precio total del historico de compras de la tienda es de: {total_compra}€\")\n",
    "\n",
    "        return total_compra \n",
    "\n",
    "        pass\n",
    "\n",
    "merkamarta = TiendaOnline()"
   ]
  },
  {
   "cell_type": "code",
   "execution_count": 1737,
   "metadata": {},
   "outputs": [
    {
     "name": "stdout",
     "output_type": "stream",
     "text": [
      "El producto no existe. Añadimos el producto: {'nombre': 'Pantalón', 'precio': 30, 'cantidad': 30} al inventario\n"
     ]
    },
    {
     "data": {
      "text/plain": [
       "[{'nombre': 'Pantalón', 'precio': 30, 'cantidad': 30}]"
      ]
     },
     "execution_count": 1737,
     "metadata": {},
     "output_type": "execute_result"
    }
   ],
   "source": [
    "#1.\n",
    "merkamarta.agregar_producto('Pantalón', 30, 30)"
   ]
  },
  {
   "cell_type": "code",
   "execution_count": 1738,
   "metadata": {},
   "outputs": [
    {
     "name": "stdout",
     "output_type": "stream",
     "text": [
      "El producto no existe. Añadimos el producto: {'nombre': 'Pantalón', 'precio': 30, 'cantidad': 30} al inventario\n"
     ]
    },
    {
     "data": {
      "text/plain": [
       "[{'nombre': 'Pantalón', 'precio': 30, 'cantidad': 30},\n",
       " {'nombre': 'Camisa', 'precio': 20, 'cantidad': 40}]"
      ]
     },
     "execution_count": 1738,
     "metadata": {},
     "output_type": "execute_result"
    }
   ],
   "source": [
    "merkamarta.agregar_producto('Camisa', 20, 40)"
   ]
  },
  {
   "cell_type": "code",
   "execution_count": 1739,
   "metadata": {},
   "outputs": [
    {
     "name": "stdout",
     "output_type": "stream",
     "text": [
      "El producto no existe. Añadimos el producto: {'nombre': 'Pantalón', 'precio': 30, 'cantidad': 30} al inventario\n"
     ]
    },
    {
     "data": {
      "text/plain": [
       "[{'nombre': 'Pantalón', 'precio': 30, 'cantidad': 30},\n",
       " {'nombre': 'Camisa', 'precio': 20, 'cantidad': 40},\n",
       " {'nombre': 'Leotardos', 'precio': 5, 'cantidad': 20}]"
      ]
     },
     "execution_count": 1739,
     "metadata": {},
     "output_type": "execute_result"
    }
   ],
   "source": [
    "merkamarta.agregar_producto('Leotardos', 5, 20)"
   ]
  },
  {
   "cell_type": "code",
   "execution_count": 1740,
   "metadata": {},
   "outputs": [
    {
     "name": "stdout",
     "output_type": "stream",
     "text": [
      "El producto ya existe. Actualizando datos... {'nombre': 'Camisa', 'precio': 20, 'cantidad': 50}\n"
     ]
    },
    {
     "data": {
      "text/plain": [
       "[{'nombre': 'Pantalón', 'precio': 30, 'cantidad': 30},\n",
       " {'nombre': 'Camisa', 'precio': 20, 'cantidad': 50},\n",
       " {'nombre': 'Leotardos', 'precio': 5, 'cantidad': 20}]"
      ]
     },
     "execution_count": 1740,
     "metadata": {},
     "output_type": "execute_result"
    }
   ],
   "source": [
    "merkamarta.agregar_producto('Camisa', 20, 10)"
   ]
  },
  {
   "cell_type": "code",
   "execution_count": 1741,
   "metadata": {},
   "outputs": [
    {
     "name": "stdout",
     "output_type": "stream",
     "text": [
      "El producto no existe. Añadimos el producto: {'nombre': 'Pantalón', 'precio': 30, 'cantidad': 30} al inventario\n"
     ]
    },
    {
     "data": {
      "text/plain": [
       "[{'nombre': 'Pantalón', 'precio': 30, 'cantidad': 30},\n",
       " {'nombre': 'Camisa', 'precio': 20, 'cantidad': 50},\n",
       " {'nombre': 'Leotardos', 'precio': 5, 'cantidad': 20},\n",
       " {'nombre': 'Polo', 'precio': 35, 'cantidad': 50}]"
      ]
     },
     "execution_count": 1741,
     "metadata": {},
     "output_type": "execute_result"
    }
   ],
   "source": [
    "merkamarta.agregar_producto('Polo', 35, 50)"
   ]
  },
  {
   "cell_type": "code",
   "execution_count": 1742,
   "metadata": {},
   "outputs": [
    {
     "name": "stdout",
     "output_type": "stream",
     "text": [
      "Nombre: Pantalón, Precio: 30, Cantidad: 30\n",
      "Nombre: Camisa, Precio: 20, Cantidad: 50\n",
      "Nombre: Leotardos, Precio: 5, Cantidad: 20\n",
      "Nombre: Polo, Precio: 35, Cantidad: 50\n"
     ]
    }
   ],
   "source": [
    "#2.\n",
    "merkamarta.ver_inventario()"
   ]
  },
  {
   "cell_type": "code",
   "execution_count": 1743,
   "metadata": {},
   "outputs": [
    {
     "data": {
      "text/plain": [
       "'Nombre: Pantalón, Precio: 30, Cantidad: 30'"
      ]
     },
     "execution_count": 1743,
     "metadata": {},
     "output_type": "execute_result"
    }
   ],
   "source": [
    "#3.\n",
    "merkamarta.buscar_producto('Pantalón')"
   ]
  },
  {
   "cell_type": "code",
   "execution_count": 1744,
   "metadata": {},
   "outputs": [
    {
     "data": {
      "text/plain": [
       "'El producto Zapatillas no existe.'"
      ]
     },
     "execution_count": 1744,
     "metadata": {},
     "output_type": "execute_result"
    }
   ],
   "source": [
    "merkamarta.buscar_producto('Zapatillas')"
   ]
  },
  {
   "cell_type": "code",
   "execution_count": 1745,
   "metadata": {},
   "outputs": [
    {
     "name": "stdout",
     "output_type": "stream",
     "text": [
      "El producto ya existe. Actualizando datos... {'nombre': 'Camisa', 'precio': 20, 'cantidad': 49}\n"
     ]
    },
    {
     "data": {
      "text/plain": [
       "[{'nombre': 'Pantalón', 'precio': 30, 'cantidad': 30},\n",
       " {'nombre': 'Camisa', 'precio': 20, 'cantidad': 49},\n",
       " {'nombre': 'Leotardos', 'precio': 5, 'cantidad': 20},\n",
       " {'nombre': 'Polo', 'precio': 35, 'cantidad': 50}]"
      ]
     },
     "execution_count": 1745,
     "metadata": {},
     "output_type": "execute_result"
    }
   ],
   "source": [
    "#4. \n",
    "merkamarta.actualizar_stock('Camisa', -1)"
   ]
  },
  {
   "cell_type": "code",
   "execution_count": 1746,
   "metadata": {},
   "outputs": [
    {
     "name": "stdout",
     "output_type": "stream",
     "text": [
      "El producto Zapatillas no existe.\n",
      "El producto Pantalón ha sido eliminado.\n"
     ]
    },
    {
     "data": {
      "text/plain": [
       "[{'nombre': 'Camisa', 'precio': 20, 'cantidad': 49},\n",
       " {'nombre': 'Leotardos', 'precio': 5, 'cantidad': 20},\n",
       " {'nombre': 'Polo', 'precio': 35, 'cantidad': 50}]"
      ]
     },
     "execution_count": 1746,
     "metadata": {},
     "output_type": "execute_result"
    }
   ],
   "source": [
    "#5.\n",
    "merkamarta.eliminar_producto('Zapatillas')\n",
    "merkamarta.eliminar_producto('Pantalón')"
   ]
  },
  {
   "cell_type": "code",
   "execution_count": 1747,
   "metadata": {},
   "outputs": [
    {
     "data": {
      "text/plain": [
       "'El valor total del inventario es de 2830€'"
      ]
     },
     "execution_count": 1747,
     "metadata": {},
     "output_type": "execute_result"
    }
   ],
   "source": [
    "#6.\n",
    "merkamarta.calcular_valor_inventario()"
   ]
  },
  {
   "cell_type": "code",
   "execution_count": 1748,
   "metadata": {},
   "outputs": [
    {
     "name": "stdout",
     "output_type": "stream",
     "text": [
      "[{'nombre': 'Camisa', 'precio': 20, 'cantidad': 49}, {'nombre': 'Leotardos', 'precio': 5, 'cantidad': 20}, {'nombre': 'Polo', 'precio': 35, 'cantidad': 50}]\n"
     ]
    }
   ],
   "source": [
    "#7.\n",
    "merkamarta.buscar_producto_regex(r\"\\b[A-Z]\\w+\\b\")"
   ]
  },
  {
   "cell_type": "code",
   "execution_count": 1749,
   "metadata": {},
   "outputs": [],
   "source": [
    "#8.\n",
    "#Lo tengo como comentarios para que no se ejecute cada vez que ejecuto todo porque tiene inputs\n",
    "#merkamarta.realizar_compra()\n"
   ]
  },
  {
   "cell_type": "code",
   "execution_count": 1750,
   "metadata": {},
   "outputs": [],
   "source": [
    "#9.\n",
    "#Lo tengo como comentarios para que no se ejecute cada vez que ejecuto todo porque tiene inputs\n",
    "#merkamarta.procesar_pago()"
   ]
  },
  {
   "cell_type": "code",
   "execution_count": 1751,
   "metadata": {},
   "outputs": [
    {
     "data": {
      "text/plain": [
       "{'Marta': {'email': 'martapintoslopez@gmail.com', 'compras': []}}"
      ]
     },
     "execution_count": 1751,
     "metadata": {},
     "output_type": "execute_result"
    }
   ],
   "source": [
    "#10.\n",
    "merkamarta.agregar_cliente('Marta', 'martapintoslopez@gmail.com')"
   ]
  },
  {
   "cell_type": "code",
   "execution_count": 1752,
   "metadata": {},
   "outputs": [
    {
     "data": {
      "text/plain": [
       "{'Marta': {'email': 'martapintoslopez@gmail.com', 'compras': []},\n",
       " 'Pepa': {'email': 'pepaperez@gmail.com', 'compras': []}}"
      ]
     },
     "execution_count": 1752,
     "metadata": {},
     "output_type": "execute_result"
    }
   ],
   "source": [
    "merkamarta.agregar_cliente('Pepa', 'pepaperez@gmail.com')"
   ]
  },
  {
   "cell_type": "code",
   "execution_count": 1753,
   "metadata": {},
   "outputs": [
    {
     "name": "stdout",
     "output_type": "stream",
     "text": [
      "Marta : martapintoslopez@gmail.com\n",
      "Pepa : pepaperez@gmail.com\n"
     ]
    }
   ],
   "source": [
    "#11.\n",
    "merkamarta.ver_clientes()"
   ]
  },
  {
   "cell_type": "code",
   "execution_count": 1754,
   "metadata": {},
   "outputs": [
    {
     "name": "stdout",
     "output_type": "stream",
     "text": [
      "Las compras realizadas por el cliente Marta son las siguientes \n",
      " [{'Camisa': {'precio': 20, 'cantidad': 3}, 'Pantalón': {'precio': 30, 'cantidad': 1}}]\n",
      "El precio total de la compra es de: 90€\n"
     ]
    },
    {
     "data": {
      "text/plain": [
       "90"
      ]
     },
     "execution_count": 1754,
     "metadata": {},
     "output_type": "execute_result"
    }
   ],
   "source": [
    "#12.\n",
    "carrito_cliente1 = {\"Camisa\": {\"precio\": 20, \"cantidad\": 3}, \"Pantalón\": {\"precio\": 30, \"cantidad\": 1}}\n",
    "merkamarta.registrar_compra('Marta', carrito_cliente1)\n"
   ]
  },
  {
   "cell_type": "code",
   "execution_count": 1755,
   "metadata": {},
   "outputs": [
    {
     "name": "stdout",
     "output_type": "stream",
     "text": [
      "Las compras realizadas por el cliente Pepa son las siguientes \n",
      " [{'Camisa': {'precio': 20, 'cantidad': 2}, 'Pantalón': {'precio': 30, 'cantidad': 1}, 'Polo': {'precio': 35, 'cantidad': 1}}]\n",
      "El precio total de la compra es de: 105€\n"
     ]
    },
    {
     "data": {
      "text/plain": [
       "105"
      ]
     },
     "execution_count": 1755,
     "metadata": {},
     "output_type": "execute_result"
    }
   ],
   "source": [
    "carrito_cliente2 = {\"Camisa\": {\"precio\": 20, \"cantidad\": 2}, \"Pantalón\": {\"precio\": 30, \"cantidad\": 1}, \"Polo\": {'precio': 35, 'cantidad': 1}}\n",
    "merkamarta.registrar_compra('Pepa', carrito_cliente2)"
   ]
  },
  {
   "cell_type": "code",
   "execution_count": 1756,
   "metadata": {},
   "outputs": [
    {
     "name": "stdout",
     "output_type": "stream",
     "text": [
      "Marta : [{'Camisa': {'precio': 20, 'cantidad': 3}, 'Pantalón': {'precio': 30, 'cantidad': 1}}]\n",
      "El precio total de las compras realizadas por Marta es de: 90€\n"
     ]
    },
    {
     "data": {
      "text/plain": [
       "90"
      ]
     },
     "execution_count": 1756,
     "metadata": {},
     "output_type": "execute_result"
    }
   ],
   "source": [
    "#13.\n",
    "merkamarta.ver_compras_cliente('Marta')"
   ]
  },
  {
   "cell_type": "code",
   "execution_count": 1757,
   "metadata": {},
   "outputs": [
    {
     "name": "stdout",
     "output_type": "stream",
     "text": [
      "Pepa : [{'Camisa': {'precio': 20, 'cantidad': 2}, 'Pantalón': {'precio': 30, 'cantidad': 1}, 'Polo': {'precio': 35, 'cantidad': 1}}]\n",
      "El precio total de las compras realizadas por Pepa es de: 105€\n"
     ]
    },
    {
     "data": {
      "text/plain": [
       "105"
      ]
     },
     "execution_count": 1757,
     "metadata": {},
     "output_type": "execute_result"
    }
   ],
   "source": [
    "merkamarta.ver_compras_cliente('Pepa')"
   ]
  },
  {
   "cell_type": "code",
   "execution_count": 1758,
   "metadata": {},
   "outputs": [
    {
     "name": "stdout",
     "output_type": "stream",
     "text": [
      "El precio total del historico de compras de la tienda es de: 195€\n"
     ]
    },
    {
     "data": {
      "text/plain": [
       "195"
      ]
     },
     "execution_count": 1758,
     "metadata": {},
     "output_type": "execute_result"
    }
   ],
   "source": [
    "#14.\n",
    "merkamarta.calcular_ventas_totales()"
   ]
  }
 ],
 "metadata": {
  "kernelspec": {
   "display_name": "base",
   "language": "python",
   "name": "python3"
  },
  "language_info": {
   "codemirror_mode": {
    "name": "ipython",
    "version": 3
   },
   "file_extension": ".py",
   "mimetype": "text/x-python",
   "name": "python",
   "nbconvert_exporter": "python",
   "pygments_lexer": "ipython3",
   "version": "3.11.4"
  }
 },
 "nbformat": 4,
 "nbformat_minor": 2
}
