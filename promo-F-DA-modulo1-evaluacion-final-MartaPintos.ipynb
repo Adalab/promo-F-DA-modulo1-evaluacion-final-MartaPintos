{
 "cells": [
  {
   "cell_type": "code",
   "execution_count": 43,
   "metadata": {},
   "outputs": [],
   "source": [
    "import re\n",
    "\n",
    "class TiendaOnline:\n",
    "    def __init__(self, inventario = [], clientes = {}, ventas_totales = 0):\n",
    "        # Una lista de diccionarios para el inventario: \n",
    "        # [{'nombre': 'Camisa', 'precio': 20, 'cantidad': 40}, \n",
    "        # {'nombre': 'Pantalón', 'precio': 30, 'cantidad': 30}]\n",
    "        self.inventario = inventario \n",
    "\n",
    "        # Un diccionario con diccionario en los valores para clientes: \n",
    "        # {'Cliente1': {'email': 'cliente1@email.com', 'compras': []},\n",
    "        # 'Cliente2': {'email': 'cliente2@email.com', 'compras': []}}\n",
    "        self.clientes = clientes \n",
    "        \n",
    "        # Un float para registrar las ventas\n",
    "        self.ventas_totales = ventas_totales \n",
    "        \n",
    "    \n",
    "    def agregar_producto(self, nombre, precio, cantidad):\n",
    "        # Definimos una variable donde controlar el índice de la lista\n",
    "        indice_producto = 0\n",
    "        # Definimos una variable para controlar si existe o no el producto\n",
    "        existe_producto = False\n",
    "\n",
    "        # Recorremos el inventario y actualizamos las variables de índice y existencia\n",
    "        for index in range(0, len(self.inventario)):\n",
    "            if self.inventario[index][\"nombre\"] == nombre:\n",
    "                indice_producto = index\n",
    "                existe_producto = True\n",
    "                break\n",
    "            else:\n",
    "                existe_producto = False\n",
    "        \n",
    "        if existe_producto == True:\n",
    "            # Si existe, agregamos la cantidad nueva a la ya existente\n",
    "            self.inventario[indice_producto][\"cantidad\"] = self.inventario[indice_producto][\"cantidad\"] + cantidad\n",
    "            print(f\"El producto ya existe. Actualizando datos... {self.inventario[indice_producto]}\")\n",
    "        else:\n",
    "            # Si no existe, añadimos el producto nuevo\n",
    "            self.inventario.append({\"nombre\": nombre, \"precio\": precio, \"cantidad\": cantidad})\n",
    "            print(f\"El producto no existe. Añadimos el producto: {self.inventario[indice_producto]} al inventario\")\n",
    "\n",
    "        return self.inventario\n",
    "\n",
    "\n",
    "    def ver_inventario(self):\n",
    "        # De nuevo, iterando por el índice vamos sacando los datos requeridos.\n",
    "        for index in range(0,len(self.inventario)):\n",
    "            print(f\"Nombre: {self.inventario[index]['nombre']}, Precio: {self.inventario[index]['precio']}, Cantidad: {self.inventario[index]['cantidad']}\")\n",
    "\n",
    "    def buscar_producto(self, nombre):\n",
    "        for index in range(0, len(self.inventario)):\n",
    "            if self.inventario[index][\"nombre\"] == nombre:\n",
    "                indice_producto = index\n",
    "                existe_producto = True\n",
    "                break\n",
    "            else:\n",
    "                existe_producto = False\n",
    "        \n",
    "        if existe_producto != True:\n",
    "            return f\"El producto {nombre} no existe.\"\n",
    "\n",
    "        else:\n",
    "            return f\"Nombre: {self.inventario[indice_producto]['nombre']}, Precio: {self.inventario[indice_producto]['precio']}, Cantidad: {self.inventario[indice_producto]['cantidad']}\"\n",
    "\n",
    "\n",
    "    def actualizar_stock(self, nombre, cantidad): \n",
    "        # Definimos una variable donde controlar el índice de la lista al igual que en agregar_producto\n",
    "        indice_producto = 0\n",
    "        # Definimos una variable para controlar si existe o no el producto\n",
    "        existe_producto = False\n",
    "\n",
    "        # Recorremos el inventario y actualizamos las variables de índice y existencia\n",
    "        for index in range(0, len(self.inventario)):\n",
    "            if self.inventario[index][\"nombre\"] == nombre:\n",
    "                indice_producto = index\n",
    "                existe_producto = True\n",
    "                break\n",
    "\n",
    "            else:\n",
    "                existe_producto = False\n",
    "        \n",
    "        if existe_producto == True:\n",
    "            # Si existe, agregamos la cantidad nueva a la ya existente\n",
    "            self.inventario[indice_producto][\"cantidad\"] = self.inventario[indice_producto][\"cantidad\"] + cantidad\n",
    "            print(f\"El producto ya existe. Actualizando datos... {self.inventario[indice_producto]}\")\n",
    "        \n",
    "        else:\n",
    "            # Si no existe, mostramos mensaje de error\n",
    "            print(f\"El producto {nombre} no existe.\")\n",
    "\n",
    "        return self.inventario\n",
    "    \n",
    "\n",
    "    def eliminar_producto(self, nombre):\n",
    "        for index in range(len(self.inventario)):\n",
    "            if self.inventario[index][\"nombre\"] == nombre:\n",
    "                indice_producto = index\n",
    "                existe_producto = True\n",
    "                break\n",
    "            \n",
    "            else:\n",
    "                existe_producto = False\n",
    "        \n",
    "        #Si el producto existe lo eliminamos con pop\n",
    "        if existe_producto == True:       \n",
    "            self.inventario.pop(index)\n",
    "            print(f\"El producto {nombre} ha sido eliminado.\")\n",
    "        \n",
    "        else:\n",
    "            print(f\"El producto {nombre} no existe.\")\n",
    "        \n",
    "        return self.inventario\n",
    "\n",
    "    def calcular_valor_inventario(self): \n",
    "        valor_inventario = 0\n",
    "        # Iteramos a través del inventario y sumamos el valor de cada producto (precio x cantidad)\n",
    "        for producto in self.inventario:\n",
    "            valor_inventario += producto[\"precio\"] * producto[\"cantidad\"]\n",
    "            \n",
    "        return f\"El valor total del inventario es de {valor_inventario}€\"\n",
    "\n",
    "\n",
    "    def buscar_producto_regex(self, patron):\n",
    "        lista_productos = []\n",
    "\n",
    "        for producto in self.inventario:\n",
    "            busqueda = re.search(patron,producto[\"nombre\"])\n",
    "            \n",
    "            # si no encuntra nada devuelve None que es como False\n",
    "            if busqueda != None:\n",
    "                lista_productos.append(producto)\n",
    "            \n",
    "        print(lista_productos)\n",
    "\n",
    "\n",
    "    def realizar_compra(self): \n",
    "        #Permite a un cliente realizar una compra seleccionando productos del inventario. Debe interactuar con el cliente para seleccionar \n",
    "        # productos y calcular el costo total de la compra.\n",
    "#Utiliza un bucle while para permitir al cliente realizar múltiples compras.\n",
    "#Muestra el inventario y solicita al cliente ingresar el nombre del producto que desea comprar.\n",
    "#Registra los productos seleccionados en un carrito y actualiza el inventario.\n",
    "#Calcula el costo total de la compra.\n",
    "\n",
    "        pass\n",
    "\n",
    "    def procesar_pago(self):\n",
    " #       Procesa el pago de una compra, calcula el cambio y muestra un mensaje de confirmación.\n",
    "#Utiliza un bloque try...except para manejar excepciones.\n",
    "#Solicita al cliente ingresar la cantidad total y la cantidad de pago usando un input.\n",
    "#Calcula el cambio y muestra un mensaje de pago exitoso o un error en caso de monto insuficiente.\n",
    "        pass\n",
    "\n",
    "    def agregar_cliente(self, nombre, email): \n",
    "#Agrega un nuevo cliente al registro de clientes. Debe recibir el nombre y el correo electrónico del cliente como parámetros.\n",
    "#Agrega un cliente al diccionario de clientes con su nombre y correo electrónico.\n",
    "#{'Cliente1': {'email': 'cliente1@email.com', 'compras': []},\n",
    "#'Cliente2': {'email': 'cliente2@email.com', 'compras': []}}\n",
    "        self.clientes[nombre] = {\"email\": email, \"compras\": []}\n",
    "        \n",
    "        return self.clientes\n",
    "\n",
    "    def ver_clientes(self): \n",
    "\n",
    "        for cliente in self.clientes:\n",
    "            #print(f\"{cliente}\") --> output -> Marta\n",
    "            #print(f\"{self.clientes}\")  --> Todo self.clientes con todos los clientes y sus diccionaarios de datos\n",
    "            #print(f\"{self.clientes[cliente]}\")  --> Nos metemos en el valor del cliente concreto (del for) y buscamos solo el email\n",
    "            print(f\"{cliente} : {self.clientes[cliente]['email']}\")\n",
    "            \n",
    "        return\n",
    "        \n",
    "\n",
    "    def registrar_compra(self):\n",
    "        pass\n",
    "\n",
    "    def ver_compras_cliente(self):\n",
    "        for cliente in self.clientes:\n",
    "            print(f\"{cliente} : {self.clientes[cliente]['compras']}\")\n",
    "        \n",
    "\n",
    "    def calcular_ventas_totales(self):\n",
    "        pass\n",
    "\n",
    "merkamarta = TiendaOnline()"
   ]
  },
  {
   "cell_type": "code",
   "execution_count": 44,
   "metadata": {},
   "outputs": [
    {
     "name": "stdout",
     "output_type": "stream",
     "text": [
      "El producto no existe. Añadimos el producto: {'nombre': 'Pantalón', 'precio': 30, 'cantidad': 30} al inventario\n"
     ]
    },
    {
     "data": {
      "text/plain": [
       "[{'nombre': 'Pantalón', 'precio': 30, 'cantidad': 30}]"
      ]
     },
     "execution_count": 44,
     "metadata": {},
     "output_type": "execute_result"
    }
   ],
   "source": [
    "#1.\n",
    "merkamarta.agregar_producto('Pantalón', 30, 30)"
   ]
  },
  {
   "cell_type": "code",
   "execution_count": 45,
   "metadata": {},
   "outputs": [
    {
     "name": "stdout",
     "output_type": "stream",
     "text": [
      "El producto no existe. Añadimos el producto: {'nombre': 'Pantalón', 'precio': 30, 'cantidad': 30} al inventario\n"
     ]
    },
    {
     "data": {
      "text/plain": [
       "[{'nombre': 'Pantalón', 'precio': 30, 'cantidad': 30},\n",
       " {'nombre': 'Camisa', 'precio': 20, 'cantidad': 40}]"
      ]
     },
     "execution_count": 45,
     "metadata": {},
     "output_type": "execute_result"
    }
   ],
   "source": [
    "merkamarta.agregar_producto('Camisa', 20, 40)"
   ]
  },
  {
   "cell_type": "code",
   "execution_count": 46,
   "metadata": {},
   "outputs": [
    {
     "name": "stdout",
     "output_type": "stream",
     "text": [
      "El producto no existe. Añadimos el producto: {'nombre': 'Pantalón', 'precio': 30, 'cantidad': 30} al inventario\n"
     ]
    },
    {
     "data": {
      "text/plain": [
       "[{'nombre': 'Pantalón', 'precio': 30, 'cantidad': 30},\n",
       " {'nombre': 'Camisa', 'precio': 20, 'cantidad': 40},\n",
       " {'nombre': 'Leotardos', 'precio': 5, 'cantidad': 20}]"
      ]
     },
     "execution_count": 46,
     "metadata": {},
     "output_type": "execute_result"
    }
   ],
   "source": [
    "merkamarta.agregar_producto('Leotardos', 5, 20)"
   ]
  },
  {
   "cell_type": "code",
   "execution_count": 47,
   "metadata": {},
   "outputs": [
    {
     "name": "stdout",
     "output_type": "stream",
     "text": [
      "El producto ya existe. Actualizando datos... {'nombre': 'Camisa', 'precio': 20, 'cantidad': 50}\n"
     ]
    },
    {
     "data": {
      "text/plain": [
       "[{'nombre': 'Pantalón', 'precio': 30, 'cantidad': 30},\n",
       " {'nombre': 'Camisa', 'precio': 20, 'cantidad': 50},\n",
       " {'nombre': 'Leotardos', 'precio': 5, 'cantidad': 20}]"
      ]
     },
     "execution_count": 47,
     "metadata": {},
     "output_type": "execute_result"
    }
   ],
   "source": [
    "merkamarta.agregar_producto('Camisa', 20, 10)"
   ]
  },
  {
   "cell_type": "code",
   "execution_count": 48,
   "metadata": {},
   "outputs": [
    {
     "name": "stdout",
     "output_type": "stream",
     "text": [
      "Nombre: Pantalón, Precio: 30, Cantidad: 30\n",
      "Nombre: Camisa, Precio: 20, Cantidad: 50\n",
      "Nombre: Leotardos, Precio: 5, Cantidad: 20\n"
     ]
    }
   ],
   "source": [
    "#2.\n",
    "merkamarta.ver_inventario()"
   ]
  },
  {
   "cell_type": "code",
   "execution_count": 49,
   "metadata": {},
   "outputs": [
    {
     "data": {
      "text/plain": [
       "'Nombre: Pantalón, Precio: 30, Cantidad: 30'"
      ]
     },
     "execution_count": 49,
     "metadata": {},
     "output_type": "execute_result"
    }
   ],
   "source": [
    "#3.\n",
    "merkamarta.buscar_producto('Pantalón')"
   ]
  },
  {
   "cell_type": "code",
   "execution_count": 50,
   "metadata": {},
   "outputs": [
    {
     "data": {
      "text/plain": [
       "'El producto Zapatillas no existe.'"
      ]
     },
     "execution_count": 50,
     "metadata": {},
     "output_type": "execute_result"
    }
   ],
   "source": [
    "merkamarta.buscar_producto('Zapatillas')"
   ]
  },
  {
   "cell_type": "code",
   "execution_count": 51,
   "metadata": {},
   "outputs": [
    {
     "name": "stdout",
     "output_type": "stream",
     "text": [
      "El producto Arroz no existe.\n"
     ]
    },
    {
     "data": {
      "text/plain": [
       "[{'nombre': 'Pantalón', 'precio': 30, 'cantidad': 30},\n",
       " {'nombre': 'Camisa', 'precio': 20, 'cantidad': 50},\n",
       " {'nombre': 'Leotardos', 'precio': 5, 'cantidad': 20}]"
      ]
     },
     "execution_count": 51,
     "metadata": {},
     "output_type": "execute_result"
    }
   ],
   "source": [
    "#4. \n",
    "merkamarta.actualizar_stock('Arroz', 3)"
   ]
  },
  {
   "cell_type": "code",
   "execution_count": 52,
   "metadata": {},
   "outputs": [
    {
     "name": "stdout",
     "output_type": "stream",
     "text": [
      "El producto Zapatillas no existe.\n",
      "El producto Pantalón ha sido eliminado.\n"
     ]
    },
    {
     "data": {
      "text/plain": [
       "[{'nombre': 'Camisa', 'precio': 20, 'cantidad': 50},\n",
       " {'nombre': 'Leotardos', 'precio': 5, 'cantidad': 20}]"
      ]
     },
     "execution_count": 52,
     "metadata": {},
     "output_type": "execute_result"
    }
   ],
   "source": [
    "#5.\n",
    "merkamarta.eliminar_producto('Zapatillas')\n",
    "merkamarta.eliminar_producto('Pantalón')"
   ]
  },
  {
   "cell_type": "code",
   "execution_count": 53,
   "metadata": {},
   "outputs": [
    {
     "data": {
      "text/plain": [
       "'El valor total del inventario es de 1100€'"
      ]
     },
     "execution_count": 53,
     "metadata": {},
     "output_type": "execute_result"
    }
   ],
   "source": [
    "#6.\n",
    "merkamarta.calcular_valor_inventario()"
   ]
  },
  {
   "cell_type": "code",
   "execution_count": 54,
   "metadata": {},
   "outputs": [
    {
     "name": "stdout",
     "output_type": "stream",
     "text": [
      "[{'nombre': 'Camisa', 'precio': 20, 'cantidad': 50}, {'nombre': 'Leotardos', 'precio': 5, 'cantidad': 20}]\n"
     ]
    }
   ],
   "source": [
    "#7.\n",
    "merkamarta.buscar_producto_regex(r\"\\b[A-Z]\\w+\\b\")"
   ]
  },
  {
   "cell_type": "code",
   "execution_count": 55,
   "metadata": {},
   "outputs": [],
   "source": [
    "#8.\n",
    "merkamarta.realizar_compra()"
   ]
  },
  {
   "cell_type": "code",
   "execution_count": 56,
   "metadata": {},
   "outputs": [
    {
     "data": {
      "text/plain": [
       "{'Marta': {'email': 'martapintoslopez@gmail.com', 'compras': []}}"
      ]
     },
     "execution_count": 56,
     "metadata": {},
     "output_type": "execute_result"
    }
   ],
   "source": [
    "#10.\n",
    "merkamarta.agregar_cliente('Marta', 'martapintoslopez@gmail.com')"
   ]
  },
  {
   "cell_type": "code",
   "execution_count": 57,
   "metadata": {},
   "outputs": [
    {
     "data": {
      "text/plain": [
       "{'Marta': {'email': 'martapintoslopez@gmail.com', 'compras': []},\n",
       " 'Pepa': {'email': 'pepaperez@gmail.com', 'compras': []}}"
      ]
     },
     "execution_count": 57,
     "metadata": {},
     "output_type": "execute_result"
    }
   ],
   "source": [
    "merkamarta.agregar_cliente('Pepa', 'pepaperez@gmail.com')"
   ]
  },
  {
   "cell_type": "code",
   "execution_count": 58,
   "metadata": {},
   "outputs": [
    {
     "name": "stdout",
     "output_type": "stream",
     "text": [
      "Marta : martapintoslopez@gmail.com\n",
      "Pepa : pepaperez@gmail.com\n"
     ]
    }
   ],
   "source": [
    "#11.\n",
    "merkamarta.ver_clientes()"
   ]
  },
  {
   "cell_type": "code",
   "execution_count": 59,
   "metadata": {},
   "outputs": [
    {
     "name": "stdout",
     "output_type": "stream",
     "text": [
      "Marta : []\n",
      "Pepa : []\n"
     ]
    }
   ],
   "source": [
    "#12.\n",
    "merkamarta.ver_compras_cliente()"
   ]
  }
 ],
 "metadata": {
  "kernelspec": {
   "display_name": "base",
   "language": "python",
   "name": "python3"
  },
  "language_info": {
   "codemirror_mode": {
    "name": "ipython",
    "version": 3
   },
   "file_extension": ".py",
   "mimetype": "text/x-python",
   "name": "python",
   "nbconvert_exporter": "python",
   "pygments_lexer": "ipython3",
   "version": "3.11.4"
  }
 },
 "nbformat": 4,
 "nbformat_minor": 2
}
